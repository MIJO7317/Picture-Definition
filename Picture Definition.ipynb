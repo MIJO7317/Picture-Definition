{
 "cells": [
  {
   "cell_type": "code",
   "execution_count": 1,
   "metadata": {},
   "outputs": [],
   "source": [
    "from ipycanvas import Canvas\n",
    "from ipywidgets import Output\n",
    "from ipycanvas import MultiCanvas"
   ]
  },
  {
   "cell_type": "code",
   "execution_count": 2,
   "metadata": {},
   "outputs": [
    {
     "ename": "NameError",
     "evalue": "name 'Canvas' is not defined",
     "output_type": "error",
     "traceback": [
      "\u001b[1;31m---------------------------------------------------------------------------\u001b[0m",
      "\u001b[1;31mNameError\u001b[0m                                 Traceback (most recent call last)",
      "\u001b[1;32mc:\\Users\\stas2\\Desktop\\ВУЗ\\Нейронки\\Picture Definition\\Picture Definition.ipynb Cell 2'\u001b[0m in \u001b[0;36m<cell line: 1>\u001b[1;34m()\u001b[0m\n\u001b[1;32m----> <a href='vscode-notebook-cell:/c%3A/Users/stas2/Desktop/%D0%92%D0%A3%D0%97/%D0%9D%D0%B5%D0%B9%D1%80%D0%BE%D0%BD%D0%BA%D0%B8/Picture%20Definition/Picture%20Definition.ipynb#ch0000001?line=0'>1</a>\u001b[0m canvas \u001b[39m=\u001b[39m Canvas(width\u001b[39m=\u001b[39m\u001b[39m200\u001b[39m, height\u001b[39m=\u001b[39m\u001b[39m200\u001b[39m, sync_image_data\u001b[39m=\u001b[39m\u001b[39mTrue\u001b[39;00m)\n\u001b[0;32m      <a href='vscode-notebook-cell:/c%3A/Users/stas2/Desktop/%D0%92%D0%A3%D0%97/%D0%9D%D0%B5%D0%B9%D1%80%D0%BE%D0%BD%D0%BA%D0%B8/Picture%20Definition/Picture%20Definition.ipynb#ch0000001?line=2'>3</a>\u001b[0m canvas\u001b[39m.\u001b[39mfill_style \u001b[39m=\u001b[39m \u001b[39m'\u001b[39m\u001b[39m#89c64f\u001b[39m\u001b[39m'\u001b[39m\n\u001b[0;32m      <a href='vscode-notebook-cell:/c%3A/Users/stas2/Desktop/%D0%92%D0%A3%D0%97/%D0%9D%D0%B5%D0%B9%D1%80%D0%BE%D0%BD%D0%BA%D0%B8/Picture%20Definition/Picture%20Definition.ipynb#ch0000001?line=3'>4</a>\u001b[0m canvas\u001b[39m.\u001b[39mfill_rect(\u001b[39m0\u001b[39m, \u001b[39m0\u001b[39m, canvas\u001b[39m.\u001b[39mwidth)\n",
      "\u001b[1;31mNameError\u001b[0m: name 'Canvas' is not defined"
     ]
    }
   ],
   "source": [
    "canvas = Canvas(width=200, height=200, sync_image_data=True)\n",
    "\n",
    "canvas.fill_style = '#89c64f'\n",
    "canvas.fill_rect(0, 0, canvas.width)\n",
    "canvas.fill_style = '#000000'\n",
    "\n",
    "out = Output()\n",
    "\n",
    "@out.capture()\n",
    "def handle_mouse_down(x, y):\n",
    "    N = 5\n",
    "    M = 5\n",
    "    canvas.fill_rect((int(x/canvas.width*N)%N)*canvas.width/N, (int(y/canvas.height*M)%M)*canvas.height/M, canvas.width/N, canvas.height/M)\n",
    "\n",
    "@out.capture()\n",
    "def on_keyboard_event(key, shift_key, ctrl_key, meta_key):\n",
    "    if ctrl_key:\n",
    "        canvas.fill_style = '#000000'\n",
    "    if shift_key:\n",
    "        canvas.fill_style = '#89c64f'\n",
    "\n",
    "canvas.on_key_down(on_keyboard_event)\n",
    "canvas.on_mouse_down(handle_mouse_down)\n",
    "\n",
    "canvas.fill_rect(canvas.width, canvas.width, canvas.width)\n",
    "canvas.to_file('my_file.png')"
   ]
  },
  {
   "cell_type": "code",
   "execution_count": 12,
   "metadata": {},
   "outputs": [
    {
     "ename": "RuntimeError",
     "evalue": "No image data, please be sure that ``sync_image_data`` is set to True",
     "output_type": "error",
     "traceback": [
      "\u001b[1;31m---------------------------------------------------------------------------\u001b[0m",
      "\u001b[1;31mRuntimeError\u001b[0m                              Traceback (most recent call last)",
      "\u001b[1;32mc:\\Users\\stas2\\Desktop\\ВУЗ\\Нейронки\\Picture Definition\\Picture Definition.ipynb Cell 3'\u001b[0m in \u001b[0;36m<cell line: 1>\u001b[1;34m()\u001b[0m\n\u001b[1;32m----> <a href='vscode-notebook-cell:/c%3A/Users/stas2/Desktop/%D0%92%D0%A3%D0%97/%D0%9D%D0%B5%D0%B9%D1%80%D0%BE%D0%BD%D0%BA%D0%B8/Picture%20Definition/Picture%20Definition.ipynb#ch0000002?line=0'>1</a>\u001b[0m arr \u001b[39m=\u001b[39m canvas\u001b[39m.\u001b[39;49mget_image_data(x\u001b[39m=\u001b[39;49m\u001b[39m0\u001b[39;49m, y\u001b[39m=\u001b[39;49m\u001b[39m0\u001b[39;49m, width\u001b[39m=\u001b[39;49m\u001b[39mNone\u001b[39;49;00m, height\u001b[39m=\u001b[39;49m\u001b[39mNone\u001b[39;49;00m)\n",
      "File \u001b[1;32m~\\AppData\\Local\\Programs\\Python\\Python39\\lib\\site-packages\\ipycanvas\\canvas.py:371\u001b[0m, in \u001b[0;36m_CanvasBase.get_image_data\u001b[1;34m(self, x, y, width, height)\u001b[0m\n\u001b[0;32m    <a href='file:///c%3A/Users/stas2/AppData/Local/Programs/Python/Python39/lib/site-packages/ipycanvas/canvas.py?line=361'>362</a>\u001b[0m \u001b[39m\"\"\"Return a NumPy array representing the underlying pixel data for a specified portion of the canvas.\u001b[39;00m\n\u001b[0;32m    <a href='file:///c%3A/Users/stas2/AppData/Local/Programs/Python/Python39/lib/site-packages/ipycanvas/canvas.py?line=362'>363</a>\u001b[0m \n\u001b[0;32m    <a href='file:///c%3A/Users/stas2/AppData/Local/Programs/Python/Python39/lib/site-packages/ipycanvas/canvas.py?line=363'>364</a>\u001b[0m \u001b[39mThis will throw an error if there is no ``image_data`` to retrieve, this happens when nothing was drawn yet or\u001b[39;00m\n\u001b[1;32m   (...)\u001b[0m\n\u001b[0;32m    <a href='file:///c%3A/Users/stas2/AppData/Local/Programs/Python/Python39/lib/site-packages/ipycanvas/canvas.py?line=367'>368</a>\u001b[0m \u001b[39mare (``x + width``, ``y + height``).\u001b[39;00m\n\u001b[0;32m    <a href='file:///c%3A/Users/stas2/AppData/Local/Programs/Python/Python39/lib/site-packages/ipycanvas/canvas.py?line=368'>369</a>\u001b[0m \u001b[39m\"\"\"\u001b[39;00m\n\u001b[0;32m    <a href='file:///c%3A/Users/stas2/AppData/Local/Programs/Python/Python39/lib/site-packages/ipycanvas/canvas.py?line=369'>370</a>\u001b[0m \u001b[39mif\u001b[39;00m \u001b[39mself\u001b[39m\u001b[39m.\u001b[39mimage_data \u001b[39mis\u001b[39;00m \u001b[39mNone\u001b[39;00m:\n\u001b[1;32m--> <a href='file:///c%3A/Users/stas2/AppData/Local/Programs/Python/Python39/lib/site-packages/ipycanvas/canvas.py?line=370'>371</a>\u001b[0m     \u001b[39mraise\u001b[39;00m \u001b[39mRuntimeError\u001b[39;00m(\n\u001b[0;32m    <a href='file:///c%3A/Users/stas2/AppData/Local/Programs/Python/Python39/lib/site-packages/ipycanvas/canvas.py?line=371'>372</a>\u001b[0m         \u001b[39m\"\u001b[39m\u001b[39mNo image data, please be sure that ``sync_image_data`` is set to True\u001b[39m\u001b[39m\"\u001b[39m\n\u001b[0;32m    <a href='file:///c%3A/Users/stas2/AppData/Local/Programs/Python/Python39/lib/site-packages/ipycanvas/canvas.py?line=372'>373</a>\u001b[0m     )\n\u001b[0;32m    <a href='file:///c%3A/Users/stas2/AppData/Local/Programs/Python/Python39/lib/site-packages/ipycanvas/canvas.py?line=374'>375</a>\u001b[0m x \u001b[39m=\u001b[39m \u001b[39mint\u001b[39m(x)\n\u001b[0;32m    <a href='file:///c%3A/Users/stas2/AppData/Local/Programs/Python/Python39/lib/site-packages/ipycanvas/canvas.py?line=375'>376</a>\u001b[0m y \u001b[39m=\u001b[39m \u001b[39mint\u001b[39m(y)\n",
      "\u001b[1;31mRuntimeError\u001b[0m: No image data, please be sure that ``sync_image_data`` is set to True"
     ]
    }
   ],
   "source": [
    "arr = canvas.get_image_data(x=0, y=0, width=None, height=None)"
   ]
  }
 ],
 "metadata": {
  "interpreter": {
   "hash": "387e18988f9e899f68345082f19abe393181ce3f3b169e169e114efda879faee"
  },
  "kernelspec": {
   "display_name": "Python 3.10.4 64-bit (windows store)",
   "language": "python",
   "name": "python3"
  },
  "language_info": {
   "codemirror_mode": {
    "name": "ipython",
    "version": 3
   },
   "file_extension": ".py",
   "mimetype": "text/x-python",
   "name": "python",
   "nbconvert_exporter": "python",
   "pygments_lexer": "ipython3",
   "version": "3.9.10"
  },
  "orig_nbformat": 4
 },
 "nbformat": 4,
 "nbformat_minor": 2
}
