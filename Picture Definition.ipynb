{
 "cells": [
  {
   "cell_type": "code",
   "execution_count": 3,
   "metadata": {},
   "outputs": [],
   "source": [
    "from ipycanvas import Canvas\n",
    "from ipywidgets import Output"
   ]
  },
  {
   "cell_type": "code",
   "execution_count": 4,
   "metadata": {},
   "outputs": [
    {
     "data": {
      "application/vnd.jupyter.widget-view+json": {
       "model_id": "4e69bb2b1d3e4c6882d146072959d7fc",
       "version_major": 2,
       "version_minor": 0
      },
      "text/plain": [
       "Canvas(height=200, width=200)"
      ]
     },
     "metadata": {},
     "output_type": "display_data"
    }
   ],
   "source": [
    "canvas = Canvas(width=200, height=200)\n",
    "\n",
    "canvas.fill_style = '#89c64f'\n",
    "canvas.fill_rect(0, 0, canvas.width)\n",
    "canvas.fill_style = '#000000'\n",
    "\n",
    "out = Output()\n",
    "\n",
    "@out.capture()\n",
    "def handle_mouse_down(x, y):\n",
    "    N = 5\n",
    "    M = 5\n",
    "    canvas.fill_rect((int(x/canvas.width*N)%N)*canvas.width/N, (int(y/canvas.height*M)%M)*canvas.height/M, canvas.width/N, canvas.height/M)\n",
    "\n",
    "@out.capture()\n",
    "def on_keyboard_event(key, shift_key, ctrl_key, meta_key):\n",
    "    if ctrl_key:\n",
    "        canvas.fill_style = '#000000'\n",
    "    if shift_key:\n",
    "        canvas.fill_style = '#89c64f'\n",
    "\n",
    "canvas.on_key_down(on_keyboard_event)\n",
    "canvas.on_mouse_down(handle_mouse_down)\n",
    "canvas"
   ]
  }
 ],
 "metadata": {
  "interpreter": {
   "hash": "387e18988f9e899f68345082f19abe393181ce3f3b169e169e114efda879faee"
  },
  "kernelspec": {
   "display_name": "Python 3.10.4 64-bit (windows store)",
   "language": "python",
   "name": "python3"
  },
  "language_info": {
   "codemirror_mode": {
    "name": "ipython",
    "version": 3
   },
   "file_extension": ".py",
   "mimetype": "text/x-python",
   "name": "python",
   "nbconvert_exporter": "python",
   "pygments_lexer": "ipython3",
   "version": "3.9.10"
  },
  "orig_nbformat": 4
 },
 "nbformat": 4,
 "nbformat_minor": 2
}
